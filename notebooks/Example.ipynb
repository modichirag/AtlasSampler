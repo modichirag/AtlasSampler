{
 "cells": [
  {
   "cell_type": "code",
   "execution_count": 18,
   "id": "5806069f-7ab3-4cd6-ad04-c2209c8569ca",
   "metadata": {},
   "outputs": [
    {
     "name": "stdout",
     "output_type": "stream",
     "text": [
      "The autoreload extension is already loaded. To reload it, use:\n",
      "  %reload_ext autoreload\n"
     ]
    }
   ],
   "source": [
    "%load_ext autoreload\n",
    "%autoreload 2"
   ]
  },
  {
   "cell_type": "code",
   "execution_count": 19,
   "id": "f3864e5c-63d7-4823-83fa-32f6916b0d55",
   "metadata": {},
   "outputs": [
    {
     "name": "stdout",
     "output_type": "stream",
     "text": [
      "%pylab is deprecated, use %matplotlib inline and import the required libraries.\n",
      "Populating the interactive namespace from numpy and matplotlib\n"
     ]
    }
   ],
   "source": [
    "%pylab inline"
   ]
  },
  {
   "cell_type": "code",
   "execution_count": 20,
   "id": "08f9404c-565f-459d-87a3-e3553d1f4b02",
   "metadata": {},
   "outputs": [],
   "source": [
    "sys.path.append('../experiments/')\n",
    "sys.path.append('../atlassampler/')\n",
    "\n",
    "import default_args\n",
    "import models\n",
    "import plotting\n",
    "import nuts\n",
    "from atlassampler import Atlas\n",
    "# from atlassampler.wrappers import cmdstanpy_wrapper\n"
   ]
  },
  {
   "cell_type": "code",
   "execution_count": 33,
   "id": "aac43dfa-2571-4202-afc7-bc1b08115838",
   "metadata": {},
   "outputs": [
    {
     "name": "stdout",
     "output_type": "stream",
     "text": [
      "Namespace(exp='rosenbrock', n=1, suffix='', seed=999, n_leapfrog=20, n_samples=5000, n_burnin=100, target_accept=0.65, step_size=0.1, n_stepsize_adapt=100, offset=1.0, min_nleapfrog=3, max_nleapfrog=1024, n_leapfrog_adapt=100, low_nleap_percentile=10, high_nleap_percentile=90, nleap_distribution='uniform', constant_trajectory=2, probabilistic=1, n_hessian_samples=10, n_hessian_attempts=10, hessian_mode='bfgs', hessian_rank=-1, stepsize_distribution='lognormal', stepsize_sigma=1.2, max_stepsize_reduction=1000.0, delayed_proposals=1, metric='unit_e', n_metric_adapt=0, nuts=0, combine_chains=0, n_chains=4)\n"
     ]
    }
   ],
   "source": [
    "# Load default arguments\n",
    "\n",
    "import argparse\n",
    "parser = argparse.ArgumentParser()\n",
    "parser = default_args.add_default_args(parser)\n",
    "parser.add_argument('--combine_chains', type=int, default=0, help='combine nleap from chains')\n",
    "args = parser.parse_args([])\n",
    "\n",
    "## Override some arguments\n",
    "args.n_chains = 4\n",
    "args.exp = \"rosenbrock\"\n",
    "args.n = 1\n",
    "args.n_samples = 5000 \n",
    "args.step_size = 0.1\n",
    "\n",
    "print(args)\n",
    "\n"
   ]
  },
  {
   "cell_type": "markdown",
   "id": "5ab23b70-082b-4045-8191-939a9b608398",
   "metadata": {},
   "source": [
    "# Setup Stan Model"
   ]
  },
  {
   "cell_type": "code",
   "execution_count": 35,
   "id": "abbbbf60-92ca-4a4f-a482-4a6524a33f1b",
   "metadata": {},
   "outputs": [
    {
     "name": "stdout",
     "output_type": "stream",
     "text": [
      "..//stan/rosenbrock.data.json\n",
      "{'D': 1}\n",
      "Exception in loading reference samples:  [Errno 2] No such file or directory: '/mnt/ceph/users/cmodi/PosteriorDB///samples.npy'\n",
      "# of Dimensions 2\n"
     ]
    }
   ],
   "source": [
    "# Set some paths\n",
    "SAVEFOLDER = '/mnt/ceph/users/cmodi/atlassampler/'\n",
    "REFERENCE_FOLDER = \"/mnt/ceph/users/cmodi/PosteriorDB/\"\n",
    "BRIDGESTAN = \"/mnt/home/cmodi/Research/Projects/bridgestan/\"\n",
    "MODELDIR = '../'\n",
    "\n",
    "reference_path =  f'{REFERENCE_FOLDER}/'\n",
    "run_nuts = False #bool(not wrank)\n",
    "model, D, lp, lp_g, ref_samples, files = models.stan_model(args.exp, args.n, \n",
    "                                                           bridgestan_path=BRIDGESTAN, \n",
    "                                                           model_directory=MODELDIR, \n",
    "                                                           reference_samples_path=reference_path,\n",
    "                                                           run_nuts=run_nuts)\n",
    "\n",
    "print(\"# of Dimensions\", D)"
   ]
  },
  {
   "cell_type": "markdown",
   "id": "e06c0dd2-a82b-446d-870f-6ab02baf3f67",
   "metadata": {},
   "source": [
    "# Run NUTS."
   ]
  },
  {
   "cell_type": "code",
   "execution_count": 24,
   "id": "6d061a5b-3b32-44dc-aa96-b3c4ac1aee49",
   "metadata": {
    "scrolled": true
   },
   "outputs": [],
   "source": [
    "### Needs to setup cmdstanpy\n",
    "\n",
    "# samples_nuts, sampler, step_size, n_leapfrogs_nuts = nuts.run_nuts(stanfile = files[0], \n",
    "#                                                                     datafile = files[1], \n",
    "#                                                                     args = args, \n",
    "#                                                                     # savefolder=savefolder_nuts, \n",
    "#                                                                     return_all=True)   "
   ]
  },
  {
   "cell_type": "code",
   "execution_count": 25,
   "id": "7fff2c55-dcdb-435b-9fe4-4e39e6ba20ad",
   "metadata": {},
   "outputs": [],
   "source": [
    "# plt.hist(samples_nuts[..., 0].flatten(), bins=50, density=True)\n",
    "# plt.hist(ref_samples[..., 0].flatten(), bins=50, density=True, histtype='step', color='k', lw=2);"
   ]
  },
  {
   "cell_type": "markdown",
   "id": "84017b11-8ee4-4d35-ab8f-96d82f6fd1f9",
   "metadata": {},
   "source": [
    "# ATLAS"
   ]
  },
  {
   "cell_type": "code",
   "execution_count": 36,
   "id": "80ead933-64ca-44bd-ad3e-6981b66b8016",
   "metadata": {},
   "outputs": [
    {
     "name": "stdout",
     "output_type": "stream",
     "text": [
      "Distribution of trajectory lengths:  uniform\n"
     ]
    }
   ],
   "source": [
    "kernel = Atlas(D, lp, lp_g, \n",
    "                      mass_matrix = np.eye(D), \n",
    "                      constant_trajectory = args.constant_trajectory,\n",
    "                      probabilistic = args.probabilistic,\n",
    "                      delayed_proposals = args.delayed_proposals,\n",
    "                      offset = args.offset,\n",
    "                      min_nleapfrog = args.min_nleapfrog,\n",
    "                      max_nleapfrog = args.max_nleapfrog,\n",
    "                      low_nleap_percentile = args.low_nleap_percentile,\n",
    "                      high_nleap_percentile = args.high_nleap_percentile,\n",
    "                      stepsize_distribution = args.stepsize_distribution,\n",
    "                      nleap_distribution = args.nleap_distribution,\n",
    "                      stepsize_sigma = args.stepsize_sigma,\n",
    "                      n_hessian_samples = args.n_hessian_samples,\n",
    "                      hessian_rank = args.hessian_rank,\n",
    "                      max_stepsize_reduction = args.max_stepsize_reduction, \n",
    "                      hessian_mode = args.hessian_mode)\n",
    "               \n"
   ]
  },
  {
   "cell_type": "code",
   "execution_count": null,
   "id": "7054d68a-610b-46a1-bbef-332d643d0390",
   "metadata": {
    "scrolled": true
   },
   "outputs": [
    {
     "name": "stdout",
     "output_type": "stream",
     "text": [
      "Adapting step size for 100 iterationsAdapting step size for 100 iterationsAdapting step size for 100 iterationsAdapting step size for 100 iterations\n",
      "\n",
      "\n",
      "\n",
      "Step size fixed to : Step size fixed to : Step size fixed to : Step size fixed to :     0.064150764904566990.070088835071835980.051666495345995950.04938312531439974\n",
      "\n",
      "\n",
      "\n",
      "Adapting trajectory length for 100 iterationsAdapting trajectory length for 100 iterationsAdapting trajectory length for 100 iterationsAdapting trajectory length for 100 iterations\n",
      "\n",
      "\n",
      "\n",
      "Shape of trajectories :  Shape of trajectories : (100,) \n",
      "(100,)average number of steps  : \n",
      " Shape of trajectories : average number of steps  : 2.6797752808988764  \n",
      "(100,)5.089887640449438\n",
      "\n",
      "average number of steps  :  4.01875\n",
      "Shape of trajectories :  (100,)\n",
      "average number of steps  :  7.158536585365853\n"
     ]
    },
    {
     "name": "stderr",
     "output_type": "stream",
     "text": [
      "/mnt/home/cmodi/Research/Projects/AtlasSampler/atlassampler/algorithms/atlas.py:202: RuntimeWarning: divide by zero encountered in log\n",
      "  log_prob_delayed = np.log((1-np.exp(log_prob_accept_ghost))) - np.log((1- np.exp(log_prob_accept_first)))\n",
      "/mnt/home/cmodi/Research/Projects/AtlasSampler/atlassampler/algorithms/atlas.py:202: RuntimeWarning: divide by zero encountered in log\n",
      "  log_prob_delayed = np.log((1-np.exp(log_prob_accept_ghost))) - np.log((1- np.exp(log_prob_accept_first)))\n"
     ]
    },
    {
     "name": "stdout",
     "output_type": "stream",
     "text": [
      "Iteration 0 of 10000Iteration 0 of 10000\n",
      "\n",
      "Iteration 0 of 10000\n"
     ]
    },
    {
     "name": "stderr",
     "output_type": "stream",
     "text": [
      "/mnt/home/cmodi/Research/Projects/AtlasSampler/atlassampler/algorithms/atlas.py:202: RuntimeWarning: divide by zero encountered in log\n",
      "  log_prob_delayed = np.log((1-np.exp(log_prob_accept_ghost))) - np.log((1- np.exp(log_prob_accept_first)))\n"
     ]
    },
    {
     "name": "stdout",
     "output_type": "stream",
     "text": [
      "Iteration 0 of 10000\n"
     ]
    }
   ],
   "source": [
    "from multiprocessing import Pool\n",
    "args.n_samples = 10_000 \n",
    "\n",
    "# Dummy function to call with pool for running multiple chains\n",
    "def atlas_sampling(i):\n",
    "    q0 = np.random.randn(D)\n",
    "    q0 = model.param_unconstrain(q0)\n",
    "    sampler = kernel.sample(q0,\n",
    "                            seed = i,\n",
    "                            n_leapfrog = args.n_leapfrog, \n",
    "                            step_size = args.step_size,\n",
    "                            n_samples = args.n_samples, \n",
    "                            n_burnin = 50,\n",
    "                            n_stepsize_adapt = 100,\n",
    "                            n_leapfrog_adapt = args.n_leapfrog_adapt,\n",
    "                            target_accept = args.target_accept,\n",
    "                           )\n",
    "    return sampler\n",
    "\n",
    "n_chains = 4\n",
    "with Pool(processes=n_chains) as pool: \n",
    "    results = pool.map(atlas_sampling, np.arange(n_chains))"
   ]
  },
  {
   "cell_type": "code",
   "execution_count": null,
   "id": "818d537f-9262-4051-a76d-099694e5ea80",
   "metadata": {},
   "outputs": [],
   "source": [
    "# Combine samples from different chains\n",
    "\n",
    "s = np.stack([i.samples for i in results])\n",
    "print(s.shape)"
   ]
  },
  {
   "cell_type": "code",
   "execution_count": null,
   "id": "33a06561-70de-432c-bc02-942fdab05522",
   "metadata": {
    "scrolled": true
   },
   "outputs": [],
   "source": [
    "# Plot histogram of first dim\n",
    "plt.hist(s[..., 0].flatten(), bins=50, density=True, label='ATLAS samples')\n",
    "plt.hist(ref_samples[..., 0].flatten(), bins=50, density=True, histtype='step', color='k', lw=2, label='Reference');\n",
    "plt.legend()"
   ]
  },
  {
   "cell_type": "code",
   "execution_count": null,
   "id": "5ef80b6f-18b9-4d4d-b089-7b1c2254ce78",
   "metadata": {},
   "outputs": [],
   "source": [
    "# Scatter plot\n",
    "\n",
    "plt.plot(ref_samples[0, ::100, 0], ref_samples[0, ::100, 1], 'k.', alpha=0.5, label='Reference')\n",
    "plt.plot(s[..., 0].flatten(), s[..., 1].flatten(), '.', alpha=0.7, label='ATLAS samples')\n",
    "plt.legend()"
   ]
  },
  {
   "cell_type": "code",
   "execution_count": null,
   "id": "8d1a2de1-e471-4100-85e9-be8351ba0ba5",
   "metadata": {},
   "outputs": [],
   "source": []
  }
 ],
 "metadata": {
  "kernelspec": {
   "display_name": "jaxenv2",
   "language": "python",
   "name": "jaxenv2"
  },
  "language_info": {
   "codemirror_mode": {
    "name": "ipython",
    "version": 3
   },
   "file_extension": ".py",
   "mimetype": "text/x-python",
   "name": "python",
   "nbconvert_exporter": "python",
   "pygments_lexer": "ipython3",
   "version": "3.10.4"
  }
 },
 "nbformat": 4,
 "nbformat_minor": 5
}
